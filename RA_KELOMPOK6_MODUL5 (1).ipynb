{
  "nbformat": 4,
  "nbformat_minor": 0,
  "metadata": {
    "colab": {
      "provenance": []
    },
    "kernelspec": {
      "name": "python3",
      "display_name": "Python 3"
    },
    "language_info": {
      "name": "python"
    }
  },
  "cells": [
    {
      "cell_type": "code",
      "source": [
        "import threading\n",
        "import time\n",
        "\n",
        "def process_batch(batch):\n",
        "    # Simulate some processing time for each batch element\n",
        "    for x in batch:\n",
        "        time.sleep(0.1)\n",
        "        print(f\"Processing: {x}\")\n",
        "\n",
        "def batch_data_processor(input_data, batch_size, process_function, mode=\"serial\"):\n",
        "    if mode == \"serial\":\n",
        "        for i in range(0, len(input_data), batch_size):\n",
        "            batch = input_data[i:i + batch_size]\n",
        "            process_function(batch)\n",
        "    elif mode == \"parallel\":\n",
        "        threads = []\n",
        "        for i in range(0, len(input_data), batch_size):\n",
        "            batch = input_data[i:i + batch_size]\n",
        "            thread = threading.Thread(target=process_function, args=(batch,))\n",
        "            threads.append(thread)\n",
        "            thread.start()\n",
        "\n",
        "        for thread in threads:\n",
        "            thread.join()\n",
        "    else:\n",
        "        raise ValueError(f\"Invalid mode: {mode}\")\n",
        "\n",
        "data = range(8)\n",
        "\n",
        "try:\n",
        "    # Process data in serial mode\n",
        "    batch_data_processor(data, batch_size=5, process_function=process_batch, mode=\"serial\")\n",
        "\n",
        "    # Process data in parallel mode (using 4 threads)\n",
        "    batch_data_processor(data, batch_size=5, process_function=process_batch, mode=\"parallel\")\n",
        "except ValueError as e:\n",
        "    print(f\"Error: {e}\")\n"
      ],
      "metadata": {
        "colab": {
          "base_uri": "https://localhost:8080/"
        },
        "id": "0fd4-BqJErvp",
        "outputId": "e9145379-1b94-4317-810b-5cb12b2dc6a1"
      },
      "execution_count": null,
      "outputs": [
        {
          "output_type": "stream",
          "name": "stdout",
          "text": [
            "Processing: 0\n",
            "Processing: 1\n",
            "Processing: 2\n",
            "Processing: 3\n",
            "Processing: 4\n",
            "Processing: 5\n",
            "Processing: 6\n",
            "Processing: 7\n",
            "Processing: 0\n",
            "Processing: 5\n",
            "Processing: 1\n",
            "Processing: 6\n",
            "Processing: 2\n",
            "Processing: 7\n",
            "Processing: 3\n",
            "Processing: 4\n"
          ]
        }
      ]
    },
    {
      "cell_type": "code",
      "source": [],
      "metadata": {
        "id": "cuZ7hYL9I-XG"
      },
      "execution_count": null,
      "outputs": []
    }
  ]
}